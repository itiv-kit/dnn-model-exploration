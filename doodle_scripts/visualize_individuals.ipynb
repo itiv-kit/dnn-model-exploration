{
 "cells": [
  {
   "cell_type": "code",
   "execution_count": 2,
   "metadata": {},
   "outputs": [],
   "source": [
    "from model_explorer.result_handling.collect_results import collect_results\n"
   ]
  },
  {
   "cell_type": "code",
   "execution_count": 4,
   "metadata": {},
   "outputs": [
    {
     "ename": "AttributeError",
     "evalue": "'SparsityThresholdProblem' object has no attribute 'qmodel'",
     "output_type": "error",
     "traceback": [
      "\u001b[0;31m---------------------------------------------------------------------------\u001b[0m",
      "\u001b[0;31mAttributeError\u001b[0m                            Traceback (most recent call last)",
      "Cell \u001b[0;32mIn[4], line 1\u001b[0m\n\u001b[0;32m----> 1\u001b[0m results \u001b[39m=\u001b[39m collect_results(\u001b[39m'\u001b[39;49m\u001b[39m../results/exploration_resnet18_imagenet_2023-01-25_02-58-56.pkl\u001b[39;49m\u001b[39m'\u001b[39;49m)\n\u001b[1;32m      3\u001b[0m results\n",
      "File \u001b[0;32m~/temp/restructure-mixed/mixed-precision-dnns/model_explorer/result_handling/collect_results.py:20\u001b[0m, in \u001b[0;36mcollect_results\u001b[0;34m(path)\u001b[0m\n\u001b[1;32m     18\u001b[0m         logger\u001b[39m.\u001b[39mdebug(\u001b[39m\"\u001b[39m\u001b[39mAdded results file: \u001b[39m\u001b[39m{}\u001b[39;00m\u001b[39m with \u001b[39m\u001b[39m{}\u001b[39;00m\u001b[39m individual(s)\u001b[39m\u001b[39m\"\u001b[39m\u001b[39m.\u001b[39mformat(result_file, \u001b[39mlen\u001b[39m(rl\u001b[39m.\u001b[39mindividuals)))\n\u001b[1;32m     19\u001b[0m \u001b[39melse\u001b[39;00m:\n\u001b[0;32m---> 20\u001b[0m     results_collection \u001b[39m=\u001b[39m ResultsCollection(path)\n\u001b[1;32m     21\u001b[0m     logger\u001b[39m.\u001b[39mdebug(\u001b[39m\"\u001b[39m\u001b[39mAdded results file: \u001b[39m\u001b[39m{}\u001b[39;00m\u001b[39m with \u001b[39m\u001b[39m{}\u001b[39;00m\u001b[39m individual(s)\u001b[39m\u001b[39m\"\u001b[39m\u001b[39m.\u001b[39mformat(path, \u001b[39mlen\u001b[39m(results_collection\u001b[39m.\u001b[39mindividuals)))\n\u001b[1;32m     23\u001b[0m results_collection\u001b[39m.\u001b[39mdrop_duplicate_parameters()\n",
      "File \u001b[0;32m~/temp/restructure-mixed/mixed-precision-dnns/model_explorer/result_handling/results_collection.py:15\u001b[0m, in \u001b[0;36mResultsCollection.__init__\u001b[0;34m(self, pickle_file)\u001b[0m\n\u001b[1;32m     13\u001b[0m \u001b[39mself\u001b[39m\u001b[39m.\u001b[39mindividuals \u001b[39m=\u001b[39m []\n\u001b[1;32m     14\u001b[0m \u001b[39mif\u001b[39;00m pickle_file:\n\u001b[0;32m---> 15\u001b[0m     \u001b[39mself\u001b[39;49m\u001b[39m.\u001b[39;49m_load(pickle_file)\n",
      "File \u001b[0;32m~/temp/restructure-mixed/mixed-precision-dnns/model_explorer/result_handling/results_collection.py:22\u001b[0m, in \u001b[0;36mResultsCollection._load\u001b[0;34m(self, pickle_file)\u001b[0m\n\u001b[1;32m     19\u001b[0m     d: Result \u001b[39m=\u001b[39m CPUUnpickler(f)\u001b[39m.\u001b[39mload()\n\u001b[1;32m     21\u001b[0m \u001b[39mself\u001b[39m\u001b[39m.\u001b[39maccuracy_limit \u001b[39m=\u001b[39m d\u001b[39m.\u001b[39mproblem\u001b[39m.\u001b[39mmin_accuracy\n\u001b[0;32m---> 22\u001b[0m \u001b[39mself\u001b[39m\u001b[39m.\u001b[39mquantizer_names \u001b[39m=\u001b[39m d\u001b[39m.\u001b[39;49mproblem\u001b[39m.\u001b[39;49mqmodel\u001b[39m.\u001b[39mquantizer_names\n\u001b[1;32m     24\u001b[0m \u001b[39mfor\u001b[39;00m generation_idx, h \u001b[39min\u001b[39;00m \u001b[39menumerate\u001b[39m(d\u001b[39m.\u001b[39mhistory):\n\u001b[1;32m     25\u001b[0m     \u001b[39massert\u001b[39;00m \u001b[39misinstance\u001b[39m(h, pymoo\u001b[39m.\u001b[39malgorithms\u001b[39m.\u001b[39mmoo\u001b[39m.\u001b[39mnsga2\u001b[39m.\u001b[39mNSGA2)\n",
      "\u001b[0;31mAttributeError\u001b[0m: 'SparsityThresholdProblem' object has no attribute 'qmodel'"
     ]
    }
   ],
   "source": [
    "results = collect_results('../results/exploration_resnet18_imagenet_2023-01-25_02-58-56.pkl')\n",
    "\n",
    "results"
   ]
  },
  {
   "cell_type": "code",
   "execution_count": null,
   "metadata": {},
   "outputs": [],
   "source": []
  }
 ],
 "metadata": {
  "kernelspec": {
   "display_name": "torch_exploration",
   "language": "python",
   "name": "python3"
  },
  "language_info": {
   "codemirror_mode": {
    "name": "ipython",
    "version": 3
   },
   "file_extension": ".py",
   "mimetype": "text/x-python",
   "name": "python",
   "nbconvert_exporter": "python",
   "pygments_lexer": "ipython3",
   "version": "3.9.13"
  },
  "orig_nbformat": 4,
  "vscode": {
   "interpreter": {
    "hash": "9598563df7e46874d6f72e9b0b11965ab3cca349a5c9113dc94e1c2beef2b389"
   }
  }
 },
 "nbformat": 4,
 "nbformat_minor": 2
}
