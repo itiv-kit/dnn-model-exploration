{
 "cells": [
  {
   "cell_type": "code",
   "execution_count": 12,
   "metadata": {},
   "outputs": [
    {
     "data": {
      "text/plain": [
       "pymoo.core.result.Result"
      ]
     },
     "execution_count": 12,
     "metadata": {},
     "output_type": "execute_result"
    }
   ],
   "source": [
    "import pickle\n",
    "import pandas as pd\n",
    "import torch\n",
    "import io\n",
    "\n",
    "from run_resnet import LayerwiseQuantizationProblem, QuantizationModel, CalibrationModel\n",
    "\n",
    "class CPU_Unpickler(pickle.Unpickler):\n",
    "    def find_class(self, module, name):\n",
    "        if module == 'torch.storage' and name == '_load_from_bytes':\n",
    "            return lambda b: torch.load(io.BytesIO(b), map_location='cpu')\n",
    "        else:\n",
    "            return super().find_class(module, name)\n",
    "\n",
    "\n",
    "with open('exploration.pkl', 'rb') as f:\n",
    "    d = CPU_Unpickler(f).load()\n",
    "\n",
    "type(d)"
   ]
  },
  {
   "cell_type": "code",
   "execution_count": 17,
   "metadata": {},
   "outputs": [],
   "source": [
    "from torchvision import models\n",
    "\n",
    "m = models.resnet50(weights=models.ResNet50_Weights.IMAGENET1K_V2)\n",
    "layer_names = []\n",
    "\n",
    "for name, module in m.named_modules():\n",
    "    if isinstance(module, torch.nn.Conv2d):\n",
    "        layer_names.append(name)\n"
   ]
  },
  {
   "cell_type": "code",
   "execution_count": 29,
   "metadata": {},
   "outputs": [
    {
     "data": {
      "text/plain": [
       "array([ -0.7586, 440.    ])"
      ]
     },
     "execution_count": 29,
     "metadata": {},
     "output_type": "execute_result"
    }
   ],
   "source": [
    "d.opt[0].get(\"F\")"
   ]
  },
  {
   "cell_type": "code",
   "execution_count": 34,
   "metadata": {},
   "outputs": [
    {
     "ename": "TypeError",
     "evalue": "array() missing required argument 'object' (pos 0)",
     "output_type": "error",
     "traceback": [
      "\u001b[0;31m---------------------------------------------------------------------------\u001b[0m",
      "\u001b[0;31mTypeError\u001b[0m                                 Traceback (most recent call last)",
      "\u001b[1;32m/home/oq4116/projekte/ai-hardware-accelerators/mixed-precision-dnns/simple_resnet/data_analysis.ipynb Zelle 4\u001b[0m in \u001b[0;36m<cell line: 5>\u001b[0;34m()\u001b[0m\n\u001b[1;32m      <a href='vscode-notebook-cell://ssh-remote%2Bitiv-work5/home/oq4116/projekte/ai-hardware-accelerators/mixed-precision-dnns/simple_resnet/data_analysis.ipynb#W1sdnNjb2RlLXJlbW90ZQ%3D%3D?line=0'>1</a>\u001b[0m \u001b[39mimport\u001b[39;00m \u001b[39mnumpy\u001b[39;00m \u001b[39mas\u001b[39;00m \u001b[39mnp\u001b[39;00m\n\u001b[1;32m      <a href='vscode-notebook-cell://ssh-remote%2Bitiv-work5/home/oq4116/projekte/ai-hardware-accelerators/mixed-precision-dnns/simple_resnet/data_analysis.ipynb#W1sdnNjb2RlLXJlbW90ZQ%3D%3D?line=2'>3</a>\u001b[0m pop \u001b[39m=\u001b[39m d\u001b[39m.\u001b[39mpop\n\u001b[0;32m----> <a href='vscode-notebook-cell://ssh-remote%2Bitiv-work5/home/oq4116/projekte/ai-hardware-accelerators/mixed-precision-dnns/simple_resnet/data_analysis.ipynb#W1sdnNjb2RlLXJlbW90ZQ%3D%3D?line=4'>5</a>\u001b[0m df_data \u001b[39m=\u001b[39m np\u001b[39m.\u001b[39;49marray()\n\u001b[1;32m      <a href='vscode-notebook-cell://ssh-remote%2Bitiv-work5/home/oq4116/projekte/ai-hardware-accelerators/mixed-precision-dnns/simple_resnet/data_analysis.ipynb#W1sdnNjb2RlLXJlbW90ZQ%3D%3D?line=5'>6</a>\u001b[0m \u001b[39mfor\u001b[39;00m ind \u001b[39min\u001b[39;00m d\u001b[39m.\u001b[39mopt:\n\u001b[1;32m      <a href='vscode-notebook-cell://ssh-remote%2Bitiv-work5/home/oq4116/projekte/ai-hardware-accelerators/mixed-precision-dnns/simple_resnet/data_analysis.ipynb#W1sdnNjb2RlLXJlbW90ZQ%3D%3D?line=6'>7</a>\u001b[0m     \u001b[39m#l = ind.get(\"F\") + ind.get(\"X\")\u001b[39;00m\n\u001b[1;32m      <a href='vscode-notebook-cell://ssh-remote%2Bitiv-work5/home/oq4116/projekte/ai-hardware-accelerators/mixed-precision-dnns/simple_resnet/data_analysis.ipynb#W1sdnNjb2RlLXJlbW90ZQ%3D%3D?line=8'>9</a>\u001b[0m     \u001b[39mprint\u001b[39m(\u001b[39mtype\u001b[39m(ind\u001b[39m.\u001b[39mget(\u001b[39m\"\u001b[39m\u001b[39mx\u001b[39m\u001b[39m\"\u001b[39m)))\n",
      "\u001b[0;31mTypeError\u001b[0m: array() missing required argument 'object' (pos 0)"
     ]
    }
   ],
   "source": [
    "import numpy as np\n",
    "\n",
    "pop = d.pop\n",
    "\n",
    "df_data = np.empty( (55, ) )\n",
    "for ind in d.opt:\n",
    "    #l = ind.get(\"F\") + ind.get(\"X\")\n",
    "    \n",
    "    print(type(ind.get(\"x\")))\n",
    "\n",
    "df = pd.pandas(df_data, columns=[\"Acc\", \"Bits\"] + layer_names)\n",
    "\n",
    "df\n",
    "# print(*zip(pop.get(\"X\")[2], layer_names))"
   ]
  },
  {
   "cell_type": "code",
   "execution_count": null,
   "metadata": {},
   "outputs": [],
   "source": []
  }
 ],
 "metadata": {
  "kernelspec": {
   "display_name": "Python 3.6.8 ('torch_quantization')",
   "language": "python",
   "name": "python3"
  },
  "language_info": {
   "codemirror_mode": {
    "name": "ipython",
    "version": 3
   },
   "file_extension": ".py",
   "mimetype": "text/x-python",
   "name": "python",
   "nbconvert_exporter": "python",
   "pygments_lexer": "ipython3",
   "version": "3.8.12"
  },
  "orig_nbformat": 4,
  "vscode": {
   "interpreter": {
    "hash": "f13163a71fd25ca99df19113b0b7fef1658e8dabbe29c7565da80e947514db9e"
   }
  }
 },
 "nbformat": 4,
 "nbformat_minor": 2
}
